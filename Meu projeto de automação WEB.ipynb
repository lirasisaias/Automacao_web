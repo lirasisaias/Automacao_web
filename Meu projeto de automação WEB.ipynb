{
 "cells": [
  {
   "cell_type": "markdown",
   "id": "17103d22",
   "metadata": {},
   "source": [
    "#   \"Bibliotecas\""
   ]
  },
  {
   "cell_type": "code",
   "execution_count": 1,
   "id": "e89a571b",
   "metadata": {},
   "outputs": [],
   "source": [
    "#\"Bibliotecas\"\n",
    "import smtplib\n",
    "import mimetypes\n",
    "import pathlib\n",
    "from email.mime.multipart import  MIMEMultipart\n",
    "from email.mime.text import MIMEText\n",
    "from email.mime.base import MIMEBase\n",
    "from email import encoders\n",
    "from selenium import webdriver\n",
    "from selenium.webdriver.common.keys import Keys\n",
    "import pandas as pd\n",
    "import time"
   ]
  },
  {
   "cell_type": "markdown",
   "id": "df51f1ec",
   "metadata": {},
   "source": [
    "# Criando navegador e importando os dados"
   ]
  },
  {
   "cell_type": "code",
   "execution_count": 2,
   "id": "081e8423",
   "metadata": {},
   "outputs": [],
   "source": [
    "#Criar um navegador \n",
    "nav = webdriver.Chrome()"
   ]
  },
  {
   "cell_type": "code",
   "execution_count": 3,
   "id": "b2a17ef7",
   "metadata": {
    "scrolled": true
   },
   "outputs": [
    {
     "data": {
      "text/html": [
       "<div>\n",
       "<style scoped>\n",
       "    .dataframe tbody tr th:only-of-type {\n",
       "        vertical-align: middle;\n",
       "    }\n",
       "\n",
       "    .dataframe tbody tr th {\n",
       "        vertical-align: top;\n",
       "    }\n",
       "\n",
       "    .dataframe thead th {\n",
       "        text-align: right;\n",
       "    }\n",
       "</style>\n",
       "<table border=\"1\" class=\"dataframe\">\n",
       "  <thead>\n",
       "    <tr style=\"text-align: right;\">\n",
       "      <th></th>\n",
       "      <th>Nome</th>\n",
       "      <th>Termos banidos</th>\n",
       "      <th>Preço mínimo</th>\n",
       "      <th>Preço máximo</th>\n",
       "    </tr>\n",
       "  </thead>\n",
       "  <tbody>\n",
       "    <tr>\n",
       "      <th>0</th>\n",
       "      <td>iphone 12 64 gb</td>\n",
       "      <td>11 mini watch</td>\n",
       "      <td>2900</td>\n",
       "      <td>4800</td>\n",
       "    </tr>\n",
       "    <tr>\n",
       "      <th>1</th>\n",
       "      <td>rtx 3060</td>\n",
       "      <td>zota galax</td>\n",
       "      <td>2500</td>\n",
       "      <td>5000</td>\n",
       "    </tr>\n",
       "    <tr>\n",
       "      <th>2</th>\n",
       "      <td>playstation 5</td>\n",
       "      <td>4 3 FIFA</td>\n",
       "      <td>3000</td>\n",
       "      <td>6000</td>\n",
       "    </tr>\n",
       "  </tbody>\n",
       "</table>\n",
       "</div>"
      ],
      "text/plain": [
       "              Nome Termos banidos  Preço mínimo  Preço máximo\n",
       "0  iphone 12 64 gb  11 mini watch          2900          4800\n",
       "1         rtx 3060     zota galax          2500          5000\n",
       "2    playstation 5       4 3 FIFA          3000          6000"
      ]
     },
     "metadata": {},
     "output_type": "display_data"
    }
   ],
   "source": [
    "#Importar o banco de dados\n",
    "pds = pd.read_excel(\"buscas.xlsx\")\n",
    "#=======================#\n",
    "def df(BD):\n",
    "    return display(BD)\n",
    "#=======================#\n",
    "df(pds)"
   ]
  },
  {
   "cell_type": "markdown",
   "id": "e68dc95f",
   "metadata": {},
   "source": [
    "# def's "
   ]
  },
  {
   "cell_type": "markdown",
   "id": "8777257f",
   "metadata": {},
   "source": [
    "#### - Analizar se ele n tem nenhum termo banidoa"
   ]
  },
  {
   "cell_type": "code",
   "execution_count": 4,
   "id": "50405955",
   "metadata": {},
   "outputs": [],
   "source": [
    "def verivicar_termos_banidos(lis_termos_ban, nome):\n",
    "    tem_tr_ban = False\n",
    "    for palavra in lis_termos_ban:\n",
    "        if palavra in nome:\n",
    "            tem_tr_ban = True\n",
    "    return tem_tr_ban"
   ]
  },
  {
   "cell_type": "markdown",
   "id": "df3f4976",
   "metadata": {},
   "source": [
    "#### - Analizar se ele tem TODOS os termos PD"
   ]
  },
  {
   "cell_type": "code",
   "execution_count": 5,
   "id": "2a078279",
   "metadata": {},
   "outputs": [],
   "source": [
    "def verivicar_termos_protudo(lis_nomes_pd, nome):\n",
    "    tem_td_pd = True\n",
    "    for palavra in lis_nomes_pd:\n",
    "        if palavra not in nome:\n",
    "            tem_td_pd = False\n",
    "    return tem_td_pd"
   ]
  },
  {
   "cell_type": "markdown",
   "id": "c7f1a6ca",
   "metadata": {},
   "source": [
    "#### - Busca no google Shopping"
   ]
  },
  {
   "cell_type": "code",
   "execution_count": 6,
   "id": "a8f180d3",
   "metadata": {},
   "outputs": [],
   "source": [
    "def busca_google_shopping(nav, prd, termos_banidos, preco_mi, preco_mx):\n",
    "    # - Tratamentos \n",
    "    prd = prd.lower()\n",
    "    termos_banidos = termos_banidos.lower()\n",
    "    lis_termos_ban = termos_banidos.split(\" \")\n",
    "    lis_nomes_pd = prd.split(\" \")\n",
    "    preco_mi = float(preco_mi)\n",
    "    preco_mx = float(preco_mx)\n",
    "    lista_ru = []\n",
    "\n",
    "    # - Entra no google\n",
    "    nav.get(\"https://www.google.com/\")\n",
    "    nav.find_element('id','APjFqb').send_keys(prd,Keys.ENTER)\n",
    "    \n",
    "            # - Entrar na aba shopping\n",
    "    elementos = nav.find_elements('class name','hdtb-mitem')\n",
    "    for item in elementos:\n",
    "        if \"Shopping\" in item.text:\n",
    "            item.click()\n",
    "            break\n",
    "            # - Pegar as informações do produto\n",
    "    lista_re = nav.find_elements('class name','i0X6df')\n",
    "\n",
    "    for re in lista_re:    \n",
    "        nome = re.find_element('class name','tAxDx').text.lower()\n",
    "            # analizar se ele n tem nenhum termo banido\n",
    "        tem_tr_ban = verivicar_termos_banidos(lis_termos_ban, nome)\n",
    "\n",
    "            # analizar se ele tem TODOS os termos PD\n",
    "        tem_td_pd = verivicar_termos_protudo(lis_nomes_pd, nome)\n",
    "\n",
    "                # Seleciconar só os elementos que tem_tr_ban = False e au mesmo tempo tem_td_pd = True\n",
    "        if not tem_tr_ban and tem_td_pd:\n",
    "            # Tradar o preço\n",
    "            preco = re.find_element('class name','a8Pemb').text\n",
    "            if preco == '':\n",
    "                preco = float(0)\n",
    "            else:\n",
    "                try:\n",
    "                    preco = float(preco.replace(\"R$\",\"\").replace(\" \",\"\").replace(\".\",\"\").replace(\",\",\".\"))\n",
    "                except:\n",
    "                    continue\n",
    "\n",
    "            # Verificar se o preço maximo esta entre preço maximo e minimo\n",
    "\n",
    "            if preco_mi <= preco <= preco_mx:\n",
    "                #=============================================#\n",
    "                el_rf = re.find_element('class name','bONr3b')\n",
    "                el_pai = el_rf.find_element('xpath','..')\n",
    "                link = el_pai.get_attribute('href')\n",
    "                #=============================================#    \n",
    "                lista_ru.append((nome, preco, link))\n",
    "    return lista_ru"
   ]
  },
  {
   "cell_type": "markdown",
   "id": "0480e301",
   "metadata": {},
   "source": [
    "#### - Busca no buscapé "
   ]
  },
  {
   "cell_type": "code",
   "execution_count": 7,
   "id": "9c4bc661",
   "metadata": {},
   "outputs": [],
   "source": [
    "def busca_buscape(nav, prd, termos_banidos, preco_mi, preco_mx):\n",
    "    # - Tratamentos \n",
    "    prd = prd.lower()\n",
    "    termos_banidos = termos_banidos.lower()\n",
    "    lis_termos_ban = termos_banidos.split(\" \")\n",
    "    lis_nomes_pd = prd.split(\" \")\n",
    "    preco_mi = float(preco_mi)\n",
    "    preco_mx = float(preco_mx)\n",
    "    lista_ru = []\n",
    "    \n",
    "    # - Entra no google\n",
    "    nav.get(\"https://www.buscape.com.br/\")\n",
    "    nav.find_element('class name','AutoCompleteStyle_input__HG105').send_keys(prd,Keys.ENTER)\n",
    "    # - Pegar as informações do produto\n",
    "    \n",
    "    while len(nav.find_elements('class name','Select_Select__1S7HV')) < 1:\n",
    "        time.sleep(1)\n",
    "        \n",
    "    lista_re = nav.find_elements('class name','SearchCard_ProductCard_Inner__7JhKb')\n",
    "    \n",
    "    for re in lista_re:\n",
    "        preco = re.find_element('class name','Text_MobileHeadingS__Zxam2').text\n",
    "        nome = re.find_element('class name','SearchCard_ProductCard_Name__ZaO5o').text.lower()\n",
    "       \n",
    "        link = re.get_attribute(\"href\")\n",
    "            # analizar se ele n tem nenhum termo banido\n",
    "        tem_tr_ban = verivicar_termos_banidos(lis_termos_ban, nome)\n",
    "\n",
    "            # analizar se ele tem TODOS os termos PD\n",
    "        tem_td_pd = verivicar_termos_protudo(lis_nomes_pd, nome)\n",
    "        \n",
    "        if not tem_tr_ban and tem_td_pd:\n",
    "            \n",
    "            # Tradar o preço\n",
    "            if preco == '':\n",
    "                preco = float(0)\n",
    "            else:\n",
    "                preco = float(preco.replace(\"R$\",\"\").replace(\" \",\"\").replace(\".\",\"\").replace(\",\",\".\"))\n",
    "                \n",
    "            if preco_mi <= preco <= preco_mx:  \n",
    "                lista_ru.append((nome, preco, link))\n",
    "    return lista_ru"
   ]
  },
  {
   "cell_type": "markdown",
   "id": "b90447c6",
   "metadata": {},
   "source": [
    "# O \"Codigo\""
   ]
  },
  {
   "cell_type": "code",
   "execution_count": 8,
   "id": "235433a0",
   "metadata": {},
   "outputs": [],
   "source": [
    "tabela_ofertas  = pd.DataFrame()\n",
    "\n",
    "for linha in pds.index:\n",
    "    prd = pds.loc[linha,\"Nome\"]\n",
    "    termos_banidos = pds.loc[linha,\"Termos banidos\"]\n",
    "    preco_mi = pds.loc[linha,\"Preço mínimo\"]\n",
    "    preco_mx = pds.loc[linha,\"Preço máximo\"]\n",
    "    \n",
    "    lista_ru_gshop = busca_google_shopping(nav, prd, termos_banidos,preco_mi,preco_mx)\n",
    "    if lista_ru_gshop:\n",
    "        tabela_google = pd.DataFrame(lista_ru_gshop, columns=[\"Protudo\", \"Preço\", \"Link\"])\n",
    "        tabela_ofertas  = pd.concat([tabela_ofertas,tabela_google])\n",
    "    else:\n",
    "        tabela_google = None\n",
    "    \n",
    "    lista_ru_buscape = busca_buscape(nav, prd, termos_banidos, preco_mi, preco_mx)\n",
    "    if lista_ru_buscape:\n",
    "        tabela_buscape = pd.DataFrame(lista_ru_buscape, columns=[\"Protudo\", \"Preço\", \"Link\"])\n",
    "        tabela_ofertas  = pd.concat([tabela_ofertas,tabela_buscape])\n",
    "    else:\n",
    "        tabela_buscape = None\n",
    "#df(tabela_ofertas)"
   ]
  },
  {
   "cell_type": "markdown",
   "id": "2aa2ff24",
   "metadata": {},
   "source": [
    "# Exporta a tabela de ofertas para o excel"
   ]
  },
  {
   "cell_type": "code",
   "execution_count": 9,
   "id": "93fed270",
   "metadata": {},
   "outputs": [],
   "source": [
    "tabela_ofertas.to_excel(\"ofertas.xlsx\", index=False)"
   ]
  },
  {
   "cell_type": "markdown",
   "id": "04e01510",
   "metadata": {},
   "source": [
    "# Enviar o E-mail com a tabela oferta"
   ]
  },
  {
   "cell_type": "code",
   "execution_count": 10,
   "id": "b24f04cb",
   "metadata": {},
   "outputs": [
    {
     "name": "stdout",
     "output_type": "stream",
     "text": [
      "E-mail enviado com Sucesso\n"
     ]
    }
   ],
   "source": [
    "if len(tabela_ofertas) > 0:\n",
    "    with open('Senha.txt','r') as arquivo:\n",
    "        senha = arquivo.read()\n",
    "        \n",
    "        msg= MIMEMultipart()\n",
    "\n",
    "        msg['Subject'] = \"Faixas de preços.\"\n",
    "        msg['From'] = 'testes14lii@gmail.com'\n",
    "        msg['To'] = 'testes14lii@gmail.com'\n",
    "\n",
    "        corpo_email = \"\"\"Protudo(s) encontrado(s) na faxa de preço solicidada.\"\"\"\n",
    "        \n",
    "        msg.attach(MIMEText(corpo_email,'html'))\n",
    "        local_aq = r\"C:\\Users\\Censu\\Documents\\jupyter\\Projeto - 2 - Automação web\\ofertas.xlsx\"\n",
    "        \n",
    "        filename = 'ofertas.xlsx'\n",
    "        attachment = open(local_aq, \"rb\")\n",
    "\n",
    "        anexo_type = mimetypes.guess_type(f'{filename}')[0].split('/')\n",
    "        part = MIMEBase(anexo_type[0], anexo_type[1])\n",
    "\n",
    "        part.set_payload((attachment).read())\n",
    "        encoders.encode_base64(part)\n",
    "        part.add_header('Content-Disposition',\"attachment; filename= %s\" % filename)\n",
    "\n",
    "        msg.attach(part)\n",
    "\n",
    "        s = smtplib.SMTP('smtp.gmail.com: 587')\n",
    "        s.starttls()\n",
    "\n",
    "        #login Credentials for sending the mail\n",
    "        s.login(msg['From'], senha)\n",
    "        s.sendmail(msg['From'], msg['To'], msg.as_string())\n",
    "        s.quit()\n",
    "        print(f\"E-mail enviado com Sucesso\")"
   ]
  }
 ],
 "metadata": {
  "kernelspec": {
   "display_name": "Python 3 (ipykernel)",
   "language": "python",
   "name": "python3"
  },
  "language_info": {
   "codemirror_mode": {
    "name": "ipython",
    "version": 3
   },
   "file_extension": ".py",
   "mimetype": "text/x-python",
   "name": "python",
   "nbconvert_exporter": "python",
   "pygments_lexer": "ipython3",
   "version": "3.9.13"
  }
 },
 "nbformat": 4,
 "nbformat_minor": 5
}
